{
 "cells": [
  {
   "cell_type": "code",
   "execution_count": 1,
   "metadata": {},
   "outputs": [],
   "source": [
    "#install psycopg2 as database connector to Postgres\n",
    "#pip install psycopg2"
   ]
  },
  {
   "cell_type": "code",
   "execution_count": 2,
   "metadata": {},
   "outputs": [],
   "source": [
    "#import create_engine from sqlalchemy\n",
    "from sqlalchemy import create_engine\n",
    "import pandas as pd\n",
    "import matplotlib.pyplot as plt\n",
    "\n",
    "#import URI\n",
    "from uri import uri\n",
    "\n",
    "#create & connect to engine\n",
    "engine = create_engine (uri)\n",
    "connection = engine.connect()"
   ]
  },
  {
   "cell_type": "code",
   "execution_count": 3,
   "metadata": {},
   "outputs": [
    {
     "data": {
      "text/plain": [
       "([<matplotlib.axis.XTick at 0x2b602922400>,\n",
       "  <matplotlib.axis.XTick at 0x2b6076accf8>,\n",
       "  <matplotlib.axis.XTick at 0x2b6076ac9e8>,\n",
       "  <matplotlib.axis.XTick at 0x2b602df4be0>,\n",
       "  <matplotlib.axis.XTick at 0x2b602e10208>,\n",
       "  <matplotlib.axis.XTick at 0x2b602e102b0>,\n",
       "  <matplotlib.axis.XTick at 0x2b602e10940>,\n",
       "  <matplotlib.axis.XTick at 0x2b602e10eb8>,\n",
       "  <matplotlib.axis.XTick at 0x2b602e1a470>,\n",
       "  <matplotlib.axis.XTick at 0x2b602e1a9e8>],\n",
       " <a list of 10 Text xticklabel objects>)"
      ]
     },
     "execution_count": 3,
     "metadata": {},
     "output_type": "execute_result"
    },
    {
     "data": {
      "image/png": "[encoded data removed]",
      "text/plain": [
       "<Figure size 432x288 with 1 Axes>"
      ]
     },
     "metadata": {
      "needs_background": "light"
     },
     "output_type": "display_data"
    }
   ],
   "source": [
    "#histogram of most common salary ranges for employees\n",
    "\n",
    "#import salaries table to dataframe\n",
    "salaries_df = pd.read_sql_table (\"salaries\", con = engine)\n",
    "\n",
    "#create own bins (rather than auto-generated ones); min 40k, max 130k\n",
    "salary_bins = [40000, 50000, 60000, 70000, 80000, 90000, 100000, 110000, 120000, 130000]\n",
    "\n",
    "#create histogram w/ custom bins\n",
    "plt.hist (salaries_df['salary'],\n",
    "          bins = salary_bins)\n",
    "\n",
    "#label axes & title, add grid\n",
    "plt.xlabel ('salary ($)')\n",
    "plt.ylabel ('# of employees per bin')\n",
    "plt.title ('salary ranges of employees')\n",
    "plt.grid ()\n",
    "\n",
    "#change tick labels\n",
    "tick_loc = [x for x in salary_bins]\n",
    "plt.xticks (tick_loc, ['40k', '50k', '60k', '70k', '80k', '90k', '100k', '110k', '120k', '130k'])"
   ]
  },
  {
   "cell_type": "code",
   "execution_count": 4,
   "metadata": {},
   "outputs": [
    {
     "data": {
      "text/html": [
       "<div>\n",
       "<style scoped>\n",
       "    .dataframe tbody tr th:only-of-type {\n",
       "        vertical-align: middle;\n",
       "    }\n",
       "\n",
       "    .dataframe tbody tr th {\n",
       "        vertical-align: top;\n",
       "    }\n",
       "\n",
       "    .dataframe thead th {\n",
       "        text-align: right;\n",
       "    }\n",
       "</style>\n",
       "<table border=\"1\" class=\"dataframe\">\n",
       "  <thead>\n",
       "    <tr style=\"text-align: right;\">\n",
       "      <th></th>\n",
       "      <th>emp_num</th>\n",
       "      <th>title_id</th>\n",
       "      <th>dob</th>\n",
       "      <th>first_name</th>\n",
       "      <th>last_name</th>\n",
       "      <th>sex</th>\n",
       "      <th>hire_date</th>\n",
       "      <th>salary</th>\n",
       "      <th>title</th>\n",
       "    </tr>\n",
       "  </thead>\n",
       "  <tbody>\n",
       "    <tr>\n",
       "      <th>0</th>\n",
       "      <td>473302</td>\n",
       "      <td>s0001</td>\n",
       "      <td>7/25/1953</td>\n",
       "      <td>Hideyuki</td>\n",
       "      <td>Zallocco</td>\n",
       "      <td>M</td>\n",
       "      <td>4/28/1990</td>\n",
       "      <td>40000</td>\n",
       "      <td>Staff</td>\n",
       "    </tr>\n",
       "    <tr>\n",
       "      <th>1</th>\n",
       "      <td>475053</td>\n",
       "      <td>e0002</td>\n",
       "      <td>11/18/1954</td>\n",
       "      <td>Byong</td>\n",
       "      <td>Delgrande</td>\n",
       "      <td>F</td>\n",
       "      <td>9/7/1991</td>\n",
       "      <td>53422</td>\n",
       "      <td>Engineer</td>\n",
       "    </tr>\n",
       "    <tr>\n",
       "      <th>2</th>\n",
       "      <td>57444</td>\n",
       "      <td>e0002</td>\n",
       "      <td>1/30/1958</td>\n",
       "      <td>Berry</td>\n",
       "      <td>Babb</td>\n",
       "      <td>F</td>\n",
       "      <td>3/21/1992</td>\n",
       "      <td>48973</td>\n",
       "      <td>Engineer</td>\n",
       "    </tr>\n",
       "    <tr>\n",
       "      <th>3</th>\n",
       "      <td>421786</td>\n",
       "      <td>s0001</td>\n",
       "      <td>9/28/1957</td>\n",
       "      <td>Xiong</td>\n",
       "      <td>Verhoeff</td>\n",
       "      <td>M</td>\n",
       "      <td>11/26/1987</td>\n",
       "      <td>40000</td>\n",
       "      <td>Staff</td>\n",
       "    </tr>\n",
       "    <tr>\n",
       "      <th>4</th>\n",
       "      <td>282238</td>\n",
       "      <td>e0003</td>\n",
       "      <td>10/28/1952</td>\n",
       "      <td>Abdelkader</td>\n",
       "      <td>Baumann</td>\n",
       "      <td>F</td>\n",
       "      <td>1/18/1991</td>\n",
       "      <td>40000</td>\n",
       "      <td>Senior Engineer</td>\n",
       "    </tr>\n",
       "  </tbody>\n",
       "</table>\n",
       "</div>"
      ],
      "text/plain": [
       "  emp_num title_id         dob  first_name  last_name sex   hire_date  salary  \\\n",
       "0  473302    s0001   7/25/1953    Hideyuki   Zallocco   M   4/28/1990   40000   \n",
       "1  475053    e0002  11/18/1954       Byong  Delgrande   F    9/7/1991   53422   \n",
       "2   57444    e0002   1/30/1958       Berry       Babb   F   3/21/1992   48973   \n",
       "3  421786    s0001   9/28/1957       Xiong   Verhoeff   M  11/26/1987   40000   \n",
       "4  282238    e0003  10/28/1952  Abdelkader    Baumann   F   1/18/1991   40000   \n",
       "\n",
       "             title  \n",
       "0            Staff  \n",
       "1         Engineer  \n",
       "2         Engineer  \n",
       "3            Staff  \n",
       "4  Senior Engineer  "
      ]
     },
     "execution_count": 4,
     "metadata": {},
     "output_type": "execute_result"
    }
   ],
   "source": [
    "#bar chart of average salary by title\n",
    "\n",
    "#import employee table & title table to dataframe\n",
    "emps_df = pd.read_sql_table (\"emps\", con = engine)\n",
    "titles_df = pd.read_sql_table (\"titles\", con = engine)\n",
    "\n",
    "#join employee, title, & salary info\n",
    "es_df = pd.merge (emps_df, salaries_df, on = 'emp_num', how = 'left')\n",
    "est_df = pd.merge (es_df, titles_df, on = 'title_id', how = 'left')\n",
    "\n",
    "est_df.head()"
   ]
  },
  {
   "cell_type": "code",
   "execution_count": 5,
   "metadata": {},
   "outputs": [
    {
     "data": {
      "text/plain": [
       "([0, 1, 2, 3, 4, 5, 6], <a list of 7 Text xticklabel objects>)"
      ]
     },
     "execution_count": 5,
     "metadata": {},
     "output_type": "execute_result"
    },
    {
     "data": {
      "image/png": "[encoded data removed]",
      "text/plain": [
       "<Figure size 432x288 with 1 Axes>"
      ]
     },
     "metadata": {
      "needs_background": "light"
     },
     "output_type": "display_data"
    }
   ],
   "source": [
    "#bar chart of average salary by title, cont.\n",
    "\n",
    "#create list of unique titles & blank list for corresponding avg salaries\n",
    "title_list = est_df['title'].unique()\n",
    "avg_salary_list = []\n",
    "\n",
    "#create loop to calculate avg salaries per title\n",
    "for title in title_list:\n",
    "    \n",
    "    #isolate data for specified title w/ loc fxn\n",
    "    job_df = est_df.loc [est_df['title'] == title, :]\n",
    "    \n",
    "    #calculate mean salary, append to list\n",
    "    avg_salary = job_df['salary'].mean()\n",
    "    avg_salary_list.append (avg_salary)\n",
    "\n",
    "#create bar chart\n",
    "plt.bar (title_list,\n",
    "         avg_salary_list)\n",
    "\n",
    "#label axes & title, rotate ticks to be legible\n",
    "plt.xlabel ('job title')\n",
    "plt.ylabel ('avg salary ($)')\n",
    "plt.title ('avg salary for corresponding job titles')\n",
    "plt.xticks (rotation = 90)"
   ]
  },
  {
   "cell_type": "code",
   "execution_count": null,
   "metadata": {},
   "outputs": [],
   "source": []
  }
 ],
 "metadata": {
  "kernelspec": {
   "display_name": "Python [conda env:PythonData] *",
   "language": "python",
   "name": "conda-env-PythonData-py"
  },
  "language_info": {
   "codemirror_mode": {
    "name": "ipython",
    "version": 3
   },
   "file_extension": ".py",
   "mimetype": "text/x-python",
   "name": "python",
   "nbconvert_exporter": "python",
   "pygments_lexer": "ipython3",
   "version": "3.6.10"
  }
 },
 "nbformat": 4,
 "nbformat_minor": 4
}
